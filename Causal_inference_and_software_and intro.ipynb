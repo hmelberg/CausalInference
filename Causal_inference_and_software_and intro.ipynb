{
  "nbformat": 4,
  "nbformat_minor": 0,
  "metadata": {
    "colab": {
      "name": "Causal inference and software",
      "provenance": [],
      "collapsed_sections": [],
      "authorship_tag": "ABX9TyNpiaT5NKLc80Ne6E8wfN2A",
      "include_colab_link": true
    },
    "kernelspec": {
      "name": "python3",
      "display_name": "Python 3"
    }
  },
  "cells": [
    {
      "cell_type": "markdown",
      "metadata": {
        "id": "view-in-github",
        "colab_type": "text"
      },
      "source": [
        "<a href=\"https://colab.research.google.com/github/hmelberg/CausalInference/blob/master/Causal_inference_and_software_and%20intro.ipynb\" target=\"_parent\"><img src=\"https://colab.research.google.com/assets/colab-badge.svg\" alt=\"Open In Colab\"/></a>"
      ]
    },
    {
      "cell_type": "markdown",
      "metadata": {
        "id": "cTuIobWiKy2O",
        "colab_type": "text"
      },
      "source": [
        "# Causal inference and software\n",
        "\n",
        "## Structure\n",
        "1. Background and Importance\n",
        "2. Alternatives, Pros and cons\n",
        "3. Setup and run some examples"
      ]
    },
    {
      "cell_type": "markdown",
      "metadata": {
        "id": "5LeNimXnK-Rd",
        "colab_type": "text"
      },
      "source": [
        "## Importance\n",
        "\n",
        "Greatly increased opportunities for esitmating causal effects currently because:\n",
        "1. Have more data now \n",
        "2. Have better methods to identidy causal effects from observational data\n",
        "3. Large increase in computing power (speed, memory)\n",
        "\n",
        "\n",
        "Is it not enough to just know the theory and the formulas?\n",
        "\n",
        "\n",
        "\n",
        "We want to numerical estimates from data and this requires not only knowing the statistical theory, but also\n",
        "- data (obviously) and skills required to handle data (how to store it, in what formats) \n",
        "- translate methods to (fast) algorithms that the computer can use\n",
        "\n",
        "Example: Calculate the mean income in many countries\n",
        "Example: Multiply using roman number system! XXIV*XVI=?\n",
        "Lessons: Language and frameworks are important to make it possible to quickly get conclusions - and not all languages are equally good\n",
        "\n",
        "So: Next: Some frameworks"
      ]
    },
    {
      "cell_type": "markdown",
      "metadata": {
        "id": "Qi6zzVvsK-OA",
        "colab_type": "text"
      },
      "source": [
        "## Some alternatives - and pros and cons\n",
        "\n",
        "Example: Calculate the mean income in many countries\n",
        "\n",
        "- Pen and paper!\n",
        "\n",
        "- Excel\n",
        "- SPSS/S\n",
        "- Stata\n",
        "\n",
        "- R\n",
        "- Python\n"
      ]
    },
    {
      "cell_type": "markdown",
      "metadata": {
        "id": "HemA5ByKK-Kw",
        "colab_type": "text"
      },
      "source": [
        "## Excel \n",
        "OK, easy, but... \n",
        "- quicly very messy - easy to make unintended mistakes. Example: Harvard debt study\n",
        "- slow\n",
        "- limited number of methods available\n",
        "\n",
        "## Stata/SPSS\n",
        "Better, easy and have many methods, but:\n",
        "- Reproducability of click based conclusions? (So use syntax/do files!)\n",
        "- Costs money, Require licence\n",
        "- Methods are sometimes black-box (Propriatory, so do not know the details of the algorithms they use to get answers, Cannot douoble check, verify)\n",
        "\n",
        "## R and Python (or other programming languages)\n",
        "Widely used in biostatistics, Free, Powerful, Flexible. But: Require some effort in the beginning.\n",
        "R OR Python? Let's not go there? OK: Python is more general (programming), R is more specialized (statistics). Both are very good!\n",
        "\n"
      ]
    },
    {
      "cell_type": "markdown",
      "metadata": {
        "id": "AaMtf3NPK-Hc",
        "colab_type": "text"
      },
      "source": [
        "# Data Analysis using Pyton\n",
        "\n",
        "Setup:\n",
        "\n",
        "Need to download Pyton on your computer OR just go to an app where you can use Python online\n",
        "- To download: Download Anaconda Distribution and follow instructions: https://www.anaconda.com/products/individual\n",
        "- Online alterntive: Google colab (required google account): https://colab.research.google.com/\n",
        "\n",
        "Hints:\n",
        "- SHIFT+ENTER runs the content of a cell\n",
        "- Press .TAB to see \n"
      ]
    },
    {
      "cell_type": "markdown",
      "metadata": {
        "id": "lRSrJf209DjT",
        "colab_type": "text"
      },
      "source": [
        "https://tinyurl.com/y2prjkor"
      ]
    },
    {
      "cell_type": "markdown",
      "metadata": {
        "id": "CE8KhkbkW0Qk",
        "colab_type": "text"
      },
      "source": [
        "# Let's  jump into it: Doing data analysis with Python"
      ]
    },
    {
      "cell_type": "code",
      "metadata": {
        "id": "n_ErAigMK-EB",
        "colab_type": "code",
        "colab": {}
      },
      "source": [
        "# Need to import the packages that give us commands to handle data analysis\n",
        "import pandas as pd \n"
      ],
      "execution_count": 1,
      "outputs": []
    },
    {
      "cell_type": "code",
      "metadata": {
        "id": "dAB1NRCmV5IC",
        "colab_type": "code",
        "colab": {}
      },
      "source": [
        "# Read data from a file and give it a name (df)\n",
        "df=pd.read_csv('https://raw.githubusercontent.com/hmelberg/causal/master/data/gp%20data.csv')\n"
      ],
      "execution_count": 2,
      "outputs": []
    },
    {
      "cell_type": "code",
      "metadata": {
        "id": "5ULytDExWODu",
        "colab_type": "code",
        "colab": {}
      },
      "source": [
        "# Do some transformations, calculations and plots!"
      ],
      "execution_count": null,
      "outputs": []
    },
    {
      "cell_type": "code",
      "metadata": {
        "id": "ppnxjiijWOIT",
        "colab_type": "code",
        "colab": {
          "base_uri": "https://localhost:8080/",
          "height": 195
        },
        "outputId": "3a0eff51-190d-40b3-8c7c-983ceaf1ce10"
      },
      "source": [
        "# view the data\n",
        "df.head()"
      ],
      "execution_count": 34,
      "outputs": [
        {
          "output_type": "execute_result",
          "data": {
            "text/html": [
              "<div>\n",
              "<style scoped>\n",
              "    .dataframe tbody tr th:only-of-type {\n",
              "        vertical-align: middle;\n",
              "    }\n",
              "\n",
              "    .dataframe tbody tr th {\n",
              "        vertical-align: top;\n",
              "    }\n",
              "\n",
              "    .dataframe thead th {\n",
              "        text-align: right;\n",
              "    }\n",
              "</style>\n",
              "<table border=\"1\" class=\"dataframe\">\n",
              "  <thead>\n",
              "    <tr style=\"text-align: right;\">\n",
              "      <th></th>\n",
              "      <th>Unnamed: 0</th>\n",
              "      <th>age</th>\n",
              "      <th>gender</th>\n",
              "      <th>year</th>\n",
              "      <th>visits</th>\n",
              "      <th>population</th>\n",
              "      <th>avg_visits</th>\n",
              "    </tr>\n",
              "  </thead>\n",
              "  <tbody>\n",
              "    <tr>\n",
              "      <th>0</th>\n",
              "      <td>86</td>\n",
              "      <td>2</td>\n",
              "      <td>1</td>\n",
              "      <td>2006</td>\n",
              "      <td>49814</td>\n",
              "      <td>28361</td>\n",
              "      <td>1.756426</td>\n",
              "    </tr>\n",
              "    <tr>\n",
              "      <th>1</th>\n",
              "      <td>87</td>\n",
              "      <td>2</td>\n",
              "      <td>1</td>\n",
              "      <td>2007</td>\n",
              "      <td>49077</td>\n",
              "      <td>28510</td>\n",
              "      <td>1.721396</td>\n",
              "    </tr>\n",
              "    <tr>\n",
              "      <th>2</th>\n",
              "      <td>88</td>\n",
              "      <td>2</td>\n",
              "      <td>1</td>\n",
              "      <td>2008</td>\n",
              "      <td>50816</td>\n",
              "      <td>28592</td>\n",
              "      <td>1.777280</td>\n",
              "    </tr>\n",
              "    <tr>\n",
              "      <th>3</th>\n",
              "      <td>89</td>\n",
              "      <td>2</td>\n",
              "      <td>1</td>\n",
              "      <td>2009</td>\n",
              "      <td>49637</td>\n",
              "      <td>29375</td>\n",
              "      <td>1.689770</td>\n",
              "    </tr>\n",
              "    <tr>\n",
              "      <th>4</th>\n",
              "      <td>90</td>\n",
              "      <td>2</td>\n",
              "      <td>1</td>\n",
              "      <td>2010</td>\n",
              "      <td>52343</td>\n",
              "      <td>29333</td>\n",
              "      <td>1.784441</td>\n",
              "    </tr>\n",
              "  </tbody>\n",
              "</table>\n",
              "</div>"
            ],
            "text/plain": [
              "   Unnamed: 0  age  gender  year  visits  population  avg_visits\n",
              "0          86    2       1  2006   49814       28361    1.756426\n",
              "1          87    2       1  2007   49077       28510    1.721396\n",
              "2          88    2       1  2008   50816       28592    1.777280\n",
              "3          89    2       1  2009   49637       29375    1.689770\n",
              "4          90    2       1  2010   52343       29333    1.784441"
            ]
          },
          "metadata": {
            "tags": []
          },
          "execution_count": 34
        }
      ]
    },
    {
      "cell_type": "code",
      "metadata": {
        "id": "uxC5szIXWv3Y",
        "colab_type": "code",
        "colab": {}
      },
      "source": [
        "# view one column\n",
        "df['visits']\n"
      ],
      "execution_count": 8,
      "outputs": []
    },
    {
      "cell_type": "code",
      "metadata": {
        "id": "An8p4vkKLXGE",
        "colab_type": "code",
        "colab": {}
      },
      "source": [
        "# calculate a new column\n",
        "df['avg_visits'] = df['visits'] / df['population']"
      ],
      "execution_count": null,
      "outputs": []
    },
    {
      "cell_type": "code",
      "metadata": {
        "id": "GFyq4amBWvkM",
        "colab_type": "code",
        "colab": {
          "base_uri": "https://localhost:8080/",
          "height": 195
        },
        "outputId": "81959ea9-0a01-470b-fd5b-fee53a1eeb06"
      },
      "source": [
        "# check the result\n",
        "df.head()"
      ],
      "execution_count": 9,
      "outputs": [
        {
          "output_type": "execute_result",
          "data": {
            "text/html": [
              "<div>\n",
              "<style scoped>\n",
              "    .dataframe tbody tr th:only-of-type {\n",
              "        vertical-align: middle;\n",
              "    }\n",
              "\n",
              "    .dataframe tbody tr th {\n",
              "        vertical-align: top;\n",
              "    }\n",
              "\n",
              "    .dataframe thead th {\n",
              "        text-align: right;\n",
              "    }\n",
              "</style>\n",
              "<table border=\"1\" class=\"dataframe\">\n",
              "  <thead>\n",
              "    <tr style=\"text-align: right;\">\n",
              "      <th></th>\n",
              "      <th>Unnamed: 0</th>\n",
              "      <th>age</th>\n",
              "      <th>gender</th>\n",
              "      <th>year</th>\n",
              "      <th>visits</th>\n",
              "      <th>population</th>\n",
              "      <th>avg_visits</th>\n",
              "    </tr>\n",
              "  </thead>\n",
              "  <tbody>\n",
              "    <tr>\n",
              "      <th>0</th>\n",
              "      <td>86</td>\n",
              "      <td>2</td>\n",
              "      <td>1</td>\n",
              "      <td>2006</td>\n",
              "      <td>49814</td>\n",
              "      <td>28361</td>\n",
              "      <td>1.756426</td>\n",
              "    </tr>\n",
              "    <tr>\n",
              "      <th>1</th>\n",
              "      <td>87</td>\n",
              "      <td>2</td>\n",
              "      <td>1</td>\n",
              "      <td>2007</td>\n",
              "      <td>49077</td>\n",
              "      <td>28510</td>\n",
              "      <td>1.721396</td>\n",
              "    </tr>\n",
              "    <tr>\n",
              "      <th>2</th>\n",
              "      <td>88</td>\n",
              "      <td>2</td>\n",
              "      <td>1</td>\n",
              "      <td>2008</td>\n",
              "      <td>50816</td>\n",
              "      <td>28592</td>\n",
              "      <td>1.777280</td>\n",
              "    </tr>\n",
              "    <tr>\n",
              "      <th>3</th>\n",
              "      <td>89</td>\n",
              "      <td>2</td>\n",
              "      <td>1</td>\n",
              "      <td>2009</td>\n",
              "      <td>49637</td>\n",
              "      <td>29375</td>\n",
              "      <td>1.689770</td>\n",
              "    </tr>\n",
              "    <tr>\n",
              "      <th>4</th>\n",
              "      <td>90</td>\n",
              "      <td>2</td>\n",
              "      <td>1</td>\n",
              "      <td>2010</td>\n",
              "      <td>52343</td>\n",
              "      <td>29333</td>\n",
              "      <td>1.784441</td>\n",
              "    </tr>\n",
              "  </tbody>\n",
              "</table>\n",
              "</div>"
            ],
            "text/plain": [
              "   Unnamed: 0  age  gender  year  visits  population  avg_visits\n",
              "0          86    2       1  2006   49814       28361    1.756426\n",
              "1          87    2       1  2007   49077       28510    1.721396\n",
              "2          88    2       1  2008   50816       28592    1.777280\n",
              "3          89    2       1  2009   49637       29375    1.689770\n",
              "4          90    2       1  2010   52343       29333    1.784441"
            ]
          },
          "metadata": {
            "tags": []
          },
          "execution_count": 9
        }
      ]
    },
    {
      "cell_type": "code",
      "metadata": {
        "id": "jLRIjQAtBO2C",
        "colab_type": "code",
        "colab": {}
      },
      "source": [
        ""
      ],
      "execution_count": null,
      "outputs": []
    },
    {
      "cell_type": "code",
      "metadata": {
        "id": "qFPloPv9BPJZ",
        "colab_type": "code",
        "colab": {
          "base_uri": "https://localhost:8080/",
          "height": 265
        },
        "outputId": "dd90eece-d84f-4f09-8ce0-b860cbb7f292"
      },
      "source": [
        "# select all observations for yer 2007 and gender 1, select avg_visits and plot it\n",
        "\n",
        "df.query('year==2007 & gender==1')['avg_visits'].plot();\n"
      ],
      "execution_count": 18,
      "outputs": [
        {
          "output_type": "display_data",
          "data": {
            "image/png": "[encoded data removed]",
            "text/plain": [
              "<Figure size 432x288 with 1 Axes>"
            ]
          },
          "metadata": {
            "tags": [],
            "needs_background": "light"
          }
        }
      ]
    },
    {
      "cell_type": "code",
      "metadata": {
        "id": "dbUkKDEODD6n",
        "colab_type": "code",
        "colab": {
          "base_uri": "https://localhost:8080/",
          "height": 265
        },
        "outputId": "2575350a-01fc-4ad9-92c0-a157361b0001"
      },
      "source": [
        "# first attempt: see if males go more often to the doctor than females\n",
        "df.query('year==2007')['avg_visits'].plot();\n"
      ],
      "execution_count": 19,
      "outputs": [
        {
          "output_type": "display_data",
          "data": {
            "image/png": "[encoded data removed]",
            "text/plain": [
              "<Figure size 432x288 with 1 Axes>"
            ]
          },
          "metadata": {
            "tags": [],
            "needs_background": "light"
          }
        }
      ]
    },
    {
      "cell_type": "code",
      "metadata": {
        "id": "rWIb--ebDlt5",
        "colab_type": "code",
        "colab": {
          "base_uri": "https://localhost:8080/",
          "height": 332
        },
        "outputId": "4b43afe0-1c2b-4f70-8b8e-f0cc6137faeb"
      },
      "source": [
        "# second attempt: use groupby to split the dataset into separate groups (males vs. females) and plot a line for each group\n",
        "# note: groupby is a general method for splitting data and doing analysis/calculations for each group separately"
      ],
      "execution_count": 21,
      "outputs": [
        {
          "output_type": "execute_result",
          "data": {
            "text/plain": [
              "gender\n",
              "1    AxesSubplot(0.125,0.125;0.775x0.755)\n",
              "2    AxesSubplot(0.125,0.125;0.775x0.755)\n",
              "Name: avg_visits, dtype: object"
            ]
          },
          "metadata": {
            "tags": []
          },
          "execution_count": 21
        },
        {
          "output_type": "display_data",
          "data": {
            "image/png": "[encoded data removed]",
            "text/plain": [
              "<Figure size 432x288 with 1 Axes>"
            ]
          },
          "metadata": {
            "tags": [],
            "needs_background": "light"
          }
        }
      ]
    },
    {
      "cell_type": "code",
      "metadata": {
        "id": "e_e42yFDFyFj",
        "colab_type": "code",
        "colab": {
          "base_uri": "https://localhost:8080/",
          "height": 34
        },
        "outputId": "ec853d0d-5dca-47ef-f719-a7645e52ac6c"
      },
      "source": [
        "\n",
        "# descriptive statitics (mean, min, mode etc)\n",
        "\n",
        "df['avg_visits'].min()"
      ],
      "execution_count": 25,
      "outputs": [
        {
          "output_type": "execute_result",
          "data": {
            "text/plain": [
              "0.7026488623276372"
            ]
          },
          "metadata": {
            "tags": []
          },
          "execution_count": 25
        }
      ]
    },
    {
      "cell_type": "code",
      "metadata": {
        "id": "a1qlV6e1GqmE",
        "colab_type": "code",
        "colab": {
          "base_uri": "https://localhost:8080/",
          "height": 274
        },
        "outputId": "f1ace503-9232-4cbb-e680-4ace3d874f03"
      },
      "source": [
        "# makes a plot tto see if the number of visits to the doctor (for 14 year olds, gender 1) has gone up or down over time\n",
        "df.query('age==14 & gender==1')['avg_visits'].plot.bar();"
      ],
      "execution_count": 37,
      "outputs": [
        {
          "output_type": "display_data",
          "data": {
            "image/png": "[encoded data removed]",
            "text/plain": [
              "<Figure size 432x288 with 1 Axes>"
            ]
          },
          "metadata": {
            "tags": [],
            "needs_background": "light"
          }
        }
      ]
    },
    {
      "cell_type": "code",
      "metadata": {
        "id": "70J4qrdAMdCo",
        "colab_type": "code",
        "colab": {
          "base_uri": "https://localhost:8080/",
          "height": 312
        },
        "outputId": "55e46c49-1167-4d29-f617-aa5444176e1b"
      },
      "source": [
        "# makes a plot to see if the number of visits to the doctor (for 14 year olds, gender 1) has gone up or down over time\n",
        "# this time set the x-axis (index) to year \n",
        "df.query('age==14 & gender==1').set_index('year')['avg_visits'].plot.bar()"
      ],
      "execution_count": 40,
      "outputs": [
        {
          "output_type": "execute_result",
          "data": {
            "text/plain": [
              "<matplotlib.axes._subplots.AxesSubplot at 0x7efcf5cf2860>"
            ]
          },
          "metadata": {
            "tags": []
          },
          "execution_count": 40
        },
        {
          "output_type": "display_data",
          "data": {
            "image/png": "[encoded data removed]",
            "text/plain": [
              "<Figure size 432x288 with 1 Axes>"
            ]
          },
          "metadata": {
            "tags": [],
            "needs_background": "light"
          }
        }
      ]
    },
    {
      "cell_type": "code",
      "metadata": {
        "id": "wHTFCglqGqbA",
        "colab_type": "code",
        "colab": {}
      },
      "source": [
        "#Next time: Regression!"
      ],
      "execution_count": null,
      "outputs": []
    },
    {
      "cell_type": "code",
      "metadata": {
        "id": "2w4dDA6rWN_9",
        "colab_type": "code",
        "colab": {}
      },
      "source": [
        "# Causal inference: Run a regression?"
      ],
      "execution_count": null,
      "outputs": []
    },
    {
      "cell_type": "code",
      "metadata": {
        "id": "cCWFiDRrWtKT",
        "colab_type": "code",
        "colab": {}
      },
      "source": [
        "import statsmodels.formula.api as smf"
      ],
      "execution_count": null,
      "outputs": []
    },
    {
      "cell_type": "code",
      "metadata": {
        "id": "7kWGw07xWupN",
        "colab_type": "code",
        "colab": {}
      },
      "source": [
        ""
      ],
      "execution_count": null,
      "outputs": []
    },
    {
      "cell_type": "code",
      "metadata": {
        "id": "Y8RkdAPCWusj",
        "colab_type": "code",
        "colab": {}
      },
      "source": [
        ""
      ],
      "execution_count": null,
      "outputs": []
    },
    {
      "cell_type": "code",
      "metadata": {
        "id": "wqIXS99rWul0",
        "colab_type": "code",
        "colab": {}
      },
      "source": [
        ""
      ],
      "execution_count": null,
      "outputs": []
    }
  ]
}